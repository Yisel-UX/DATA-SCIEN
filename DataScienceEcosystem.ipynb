{
  "nbformat": 4,
  "nbformat_minor": 0,
  "metadata": {
    "colab": {
      "provenance": []
    },
    "kernelspec": {
      "name": "python3",
      "display_name": "Python 3"
    },
    "language_info": {
      "name": "python"
    }
  },
  "cells": [
    {
      "cell_type": "code",
      "execution_count": null,
      "metadata": {
        "id": "vMGY6Wmt6O-E"
      },
      "outputs": [],
      "source": [
        "# Data Science Tools and Ecosystem\n",
        "\n",
        "In this notebook, Data Science Tools and Ecosystem are summarized.\n",
        "\n",
        "Some of the popular languages that Data Scientists use are:\n",
        "1. Python\n",
        "2. R\n",
        "3. SQL\n",
        "4. Julia\n",
        "5. Scala\n",
        "\n",
        "Some of the commonly used libraries used by Data Scientists include:\n",
        "1. NumPy\n",
        "2. Pandas\n",
        "3. Matplotlib\n",
        "4. Scikit-learn\n",
        "5. TensorFlow\n",
        "\n",
        "| Data Science Tools |\n",
        "|--------------------|\n",
        "| Jupyter Notebook    |\n",
        "| RStudio            |\n",
        "| Apache Zeppelin     |\n",
        "\n",
        "### Below are a few examples of evaluating arithmetic expressions in Python\n",
        "\n",
        "# This a simple arithmetic expression to multiply then add integers\n",
        "(3 * 4) + 5\n",
        "\n",
        "# This will convert 200 minutes to hours by dividing by 60\n",
        "200 / 60\n",
        "\n",
        "**Objectives:**\n",
        "- List popular languages for Data Science.\n",
        "- Discuss commonly used Data Science libraries.\n",
        "- Demonstrate basic arithmetic operations.\n",
        "- Convert time units using Python.\n",
        "\n",
        "## Author\n",
        "Yisel Casimiro Cajas\n"
      ]
    },
    {
      "cell_type": "markdown",
      "source": [
        "# Nueva sección"
      ],
      "metadata": {
        "id": "F9WlQu7N7ywS"
      }
    }
  ]
}